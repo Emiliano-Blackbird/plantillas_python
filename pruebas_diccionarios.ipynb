{
 "cells": [
  {
   "cell_type": "code",
   "execution_count": 4,
   "id": "d0fe1f4a",
   "metadata": {},
   "outputs": [
    {
     "name": "stdout",
     "output_type": "stream",
     "text": [
      "<class 'dict'>\n",
      "{'nombre': 'Juan'}\n"
     ]
    }
   ],
   "source": [
    "mi_diccionario = {}\n",
    "print(type(mi_diccionario))\n",
    "\n",
    "mi_diccionario[\"nombre\"] = \"Juan\"  # Añadir una clave y valor\n",
    "print(mi_diccionario)"
   ]
  },
  {
   "cell_type": "code",
   "execution_count": 8,
   "id": "fa919808",
   "metadata": {},
   "outputs": [
    {
     "name": "stdout",
     "output_type": "stream",
     "text": [
      "{'Emiliano': '123456789', 'Juan': '987654321', 'Ana': '456789123', 'Lucía': '456789123'}\n",
      "4\n",
      "{'Emiliano': '123456789', 'Juan': '987654321', 'Ana': '456789123', 'Lucía': '456789123', 'Macarena': '321654987'}\n",
      "5\n"
     ]
    }
   ],
   "source": [
    "agenda = {\n",
    "    \"Emiliano\": \"123456789\",\n",
    "    \"Juan\": \"987654321\",\n",
    "    \"Ana\": \"456789123\",\n",
    "    \"Lucía\": \"456789123\",\n",
    "}\n",
    "print(agenda)\n",
    "print(len(agenda))  # cantidad de contactos\n",
    "\n",
    "# agrego un nuevo contacto\n",
    "agenda[\"Macarena\"] = \"321654987\"\n",
    "print(agenda)\n",
    "\n",
    "print(len(agenda))  # cantidad de contactos"
   ]
  }
 ],
 "metadata": {
  "kernelspec": {
   "display_name": ".venv",
   "language": "python",
   "name": "python3"
  },
  "language_info": {
   "codemirror_mode": {
    "name": "ipython",
    "version": 3
   },
   "file_extension": ".py",
   "mimetype": "text/x-python",
   "name": "python",
   "nbconvert_exporter": "python",
   "pygments_lexer": "ipython3",
   "version": "3.12.3"
  }
 },
 "nbformat": 4,
 "nbformat_minor": 5
}
