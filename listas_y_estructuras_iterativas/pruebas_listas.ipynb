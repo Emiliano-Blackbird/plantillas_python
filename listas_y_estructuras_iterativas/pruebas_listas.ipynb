{
 "cells": [
  {
   "cell_type": "code",
   "execution_count": 1,
   "id": "e2915ad5",
   "metadata": {},
   "outputs": [
    {
     "name": "stdout",
     "output_type": "stream",
     "text": [
      "*****\n"
     ]
    }
   ],
   "source": [
    "num = 5\n",
    "print(\"*\" * num)"
   ]
  },
  {
   "cell_type": "code",
   "execution_count": null,
   "id": "3c487737",
   "metadata": {},
   "outputs": [
    {
     "name": "stdout",
     "output_type": "stream",
     "text": [
      "*\n",
      "**\n",
      "***\n",
      "****\n",
      "*****\n",
      "****\n",
      "***\n",
      "**\n",
      "*\n"
     ]
    }
   ],
   "source": [
    "num = 5\n",
    "num2 = 4\n",
    "\n",
    "for i in range(1,num+1):\n",
    "    print(\"*\" * i)\n",
    "\n",
    "for i in range(num2, 0, -1): # O también for i in range(num-1, 0, -1): sin utilizar num2\n",
    "    print(\"*\" * i)"
   ]
  },
  {
   "cell_type": "code",
   "execution_count": 18,
   "id": "5710405c",
   "metadata": {},
   "outputs": [
    {
     "name": "stdout",
     "output_type": "stream",
     "text": [
      " * \n",
      " *  * \n",
      " *  *  * \n",
      " *  *  *  * \n",
      " *  *  *  *  * \n",
      " *  *  *  * \n",
      " *  *  * \n",
      " *  * \n",
      " * \n"
     ]
    }
   ],
   "source": [
    "num = 5\n",
    "\n",
    "for i in range(1,num+1):\n",
    "    print(\" * \" * i)\n",
    "\n",
    "for i in range(num-1, 0, -1):\n",
    "    print(\" * \" * i)"
   ]
  },
  {
   "cell_type": "code",
   "execution_count": 20,
   "id": "625a9fab",
   "metadata": {},
   "outputs": [
    {
     "name": "stdout",
     "output_type": "stream",
     "text": [
      "['python', 'java', 'C++', 'javascript', 'css', 'html']\n",
      "['PYTHON', 'JAVA', 'C++', 'JAVASCRIPT', 'CSS', 'HTML']\n"
     ]
    }
   ],
   "source": [
    "lista_strings = [\"python\", \"java\", \"C++\", \"javascript\", \"css\", \"html\"]\n",
    "lista_mayusculas = []\n",
    "\n",
    "for cadena in lista_strings:\n",
    "    lista_mayusculas.append(cadena.upper())\n",
    "print(lista_strings)\n",
    "print(lista_mayusculas)"
   ]
  },
  {
   "cell_type": "code",
   "execution_count": 2,
   "id": "263d9e3f",
   "metadata": {},
   "outputs": [
    {
     "name": "stdout",
     "output_type": "stream",
     "text": [
      "1\n",
      "2\n",
      "3\n",
      "4\n",
      "5\n"
     ]
    }
   ],
   "source": [
    "for numero in range(1, 6):\n",
    "    print(numero)"
   ]
  },
  {
   "cell_type": "code",
   "execution_count": 12,
   "id": "ac897331",
   "metadata": {},
   "outputs": [
    {
     "name": "stdout",
     "output_type": "stream",
     "text": [
      "0\n",
      "1\n",
      "2\n",
      "3\n",
      "4\n",
      "5\n",
      "<class 'range'>\n",
      "<class 'int'>\n"
     ]
    }
   ],
   "source": [
    "numeros = range(0,6)\n",
    "for numero in numeros:\n",
    "    print(numero)\n",
    "\n",
    "print(type(numeros))\n",
    "print(type(numero))"
   ]
  },
  {
   "cell_type": "code",
   "execution_count": 13,
   "id": "3f340910",
   "metadata": {},
   "outputs": [
    {
     "name": "stdout",
     "output_type": "stream",
     "text": [
      "elemento 0 indice 0\n",
      "elemento 1 indice 1\n",
      "elemento 2 indice 2\n",
      "elemento 3 indice 3\n",
      "elemento 4 indice 4\n",
      "elemento 5 indice 5\n"
     ]
    }
   ],
   "source": [
    "numneros = [0, 10, 20, 30, 40, 50]\n",
    "\n",
    "longitud_lista = len(numneros)\n",
    "\n",
    "for i in range(0, longitud_lista):\n",
    "    print(\"elemento\", numeros[i], \"indice\", i)"
   ]
  },
  {
   "cell_type": "code",
   "execution_count": 14,
   "id": "3fa3477f",
   "metadata": {},
   "outputs": [
    {
     "name": "stdout",
     "output_type": "stream",
     "text": [
      "Juan tiene una nota de 8\n",
      "Ana tiene una nota de 9\n",
      "Pedro tiene una nota de 7\n",
      "Lucía tiene una nota de 10\n",
      "María tiene una nota de 6\n"
     ]
    }
   ],
   "source": [
    "alumnos = [\"Juan\", \"Ana\", \"Pedro\", \"Lucía\", \"María\"]\n",
    "notas = [8, 9, 7, 10, 6]\n",
    "\n",
    "total_alumnos = len(alumnos)\n",
    "\n",
    "for i in range(total_alumnos):\n",
    "    print(alumnos[i], \"tiene una nota de\", notas[i])"
   ]
  },
  {
   "cell_type": "code",
   "execution_count": 30,
   "id": "315b670e",
   "metadata": {},
   "outputs": [
    {
     "name": "stdout",
     "output_type": "stream",
     "text": [
      "Acceso permitido\n"
     ]
    }
   ],
   "source": [
    "nombres_usuario = [\"Juan123\", \"Ana456\", \"Pedro789\"]\n",
    "contraseñas_usuario = [\"pass123\", \"pass456\", \"pass789\"]\n",
    "\n",
    "usuario = \"Juan123\"\n",
    "password = \"pass123\"\n",
    "\n",
    "numero_usuarios = len(nombres_usuario)\n",
    "\n",
    "for i in range(0, numero_usuarios):\n",
    "    if nombres_usuario[i] == usuario and contraseñas_usuario[i] == password:\n",
    "        print(\"Acceso permitido\")\n",
    "        break\n",
    "\n",
    "else:\n",
    "        print(\"Acceso denegado\")"
   ]
  },
  {
   "cell_type": "code",
   "execution_count": 4,
   "id": "39efaf1d",
   "metadata": {},
   "outputs": [
    {
     "name": "stdout",
     "output_type": "stream",
     "text": [
      "True\n"
     ]
    }
   ],
   "source": [
    "M = [[2, 5, 3],\n",
    "     [6, 1, 8],\n",
    "     [7, 5, 4]]\n",
    "\n",
    "n_columnas = len(M[0])\n",
    "n_filas = len(M)\n",
    "es_matriz = True\n",
    "\n",
    "for i in range(0, n_filas):\n",
    "    if len(M[i]) != n_columnas:\n",
    "        es_matriz = False\n",
    "        break\n",
    "\n",
    "print(es_matriz)"
   ]
  }
 ],
 "metadata": {
  "kernelspec": {
   "display_name": ".venv",
   "language": "python",
   "name": "python3"
  },
  "language_info": {
   "codemirror_mode": {
    "name": "ipython",
    "version": 3
   },
   "file_extension": ".py",
   "mimetype": "text/x-python",
   "name": "python",
   "nbconvert_exporter": "python",
   "pygments_lexer": "ipython3",
   "version": "3.12.3"
  }
 },
 "nbformat": 4,
 "nbformat_minor": 5
}
