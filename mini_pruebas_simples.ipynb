{
 "cells": [
  {
   "cell_type": "code",
   "execution_count": null,
   "id": "6b1c57c0",
   "metadata": {},
   "outputs": [
    {
     "name": "stdout",
     "output_type": "stream",
     "text": [
      "23.0°C son 73.4°F\n"
     ]
    }
   ],
   "source": [
    "#Pido al usuario el tipo de temperatura a convertir y llamo a la función correspondiente\n",
    "# Creo funciones de conversión de ambas temperaturas\n",
    "def celsius_a_fahrenheit(c):\n",
    "    return (c * 9/5) + 32\n",
    "\n",
    "def fahrenheit_a_celsius(f):\n",
    "    return (f - 32) * 5/9\n",
    "\n",
    "while True:\n",
    "    tipo = input(\"¿Quieres convertir de (C)elsius a Fahrenheit o de (F)ahrenheit a Celsius? \").strip().lower()  # Elimino espacios y convierto a minúsculas\n",
    "\n",
    "    if tipo == \"c\":\n",
    "        valor = input(\"Ingrese la temperatura en Celsius: \")\n",
    "        try:\n",
    "            temp = float(valor)\n",
    "            print(f\"{temp}°C son {celsius_a_fahrenheit(temp)}°F\")\n",
    "            break\n",
    "        except ValueError:\n",
    "            print(\"Por favor, ingrese un número válido.\")\n",
    "    \n",
    "    elif tipo == \"f\":\n",
    "        valor = input(\"Ingrese la temperatura en Fahrenheit: \")\n",
    "        try:\n",
    "            temp = float(valor)\n",
    "            print(f\"{temp}°F son {fahrenheit_a_celsius(temp)}°C\")\n",
    "            break\n",
    "        except ValueError:\n",
    "            print(\"Por favor, ingrese un número válido.\")\n",
    "    \n",
    "    else:\n",
    "        print(\"Opción no válida. Escriba 'C' o 'F'.\")\n",
    "\n"
   ]
  },
  {
   "cell_type": "code",
   "execution_count": 2,
   "id": "9ef01670",
   "metadata": {},
   "outputs": [
    {
     "name": "stdout",
     "output_type": "stream",
     "text": [
      "La suma de 6 y 5 es 11\n"
     ]
    }
   ],
   "source": [
    "# Suma de dos números\n",
    "def suma(a, b):\n",
    "    return a + b\n",
    "\n",
    "a = int(input(\"Ingrese el primer número para sumar: \"))\n",
    "b = int(input(\"Ingrese el segundo número para sumar: \"))\n",
    "print(f\"La suma de {a} y {b} es {suma(a, b)}\")\n"
   ]
  },
  {
   "cell_type": "code",
   "execution_count": 2,
   "id": "1684d08b",
   "metadata": {},
   "outputs": [
    {
     "name": "stdout",
     "output_type": "stream",
     "text": [
      "La suma de 5 y 6 es 11\n"
     ]
    }
   ],
   "source": [
    "numero1 = 5\n",
    "numero2 = 6\n",
    "def suma(a, b):\n",
    "    return a + b\n",
    "print(f\"La suma de {numero1} y {numero2} es {suma(numero1, numero2)}\")\n"
   ]
  },
  {
   "cell_type": "code",
   "execution_count": 3,
   "id": "e6c306e4",
   "metadata": {},
   "outputs": [
    {
     "name": "stdout",
     "output_type": "stream",
     "text": [
      "Gracias por su compra. Su cambio es 47.5 unidades.\n"
     ]
    }
   ],
   "source": [
    "# Pedir un café en un bar y calcular el cambio\n",
    "def pedir_cafe(precio_cafe):\n",
    "    dinero = float(input(\"Ingrese la cantidad de dinero que tiene: \"))\n",
    "    if dinero >= precio_cafe:\n",
    "        print(f\"Gracias por su compra. Su cambio es {dinero - precio_cafe} unidades.\")\n",
    "    else:\n",
    "        print(\"No tiene suficiente dinero para comprar el café.\")\n",
    "\n",
    "pedir_cafe(2.5)\n"
   ]
  }
 ],
 "metadata": {
  "kernelspec": {
   "display_name": ".venv",
   "language": "python",
   "name": "python3"
  },
  "language_info": {
   "codemirror_mode": {
    "name": "ipython",
    "version": 3
   },
   "file_extension": ".py",
   "mimetype": "text/x-python",
   "name": "python",
   "nbconvert_exporter": "python",
   "pygments_lexer": "ipython3",
   "version": "3.12.3"
  }
 },
 "nbformat": 4,
 "nbformat_minor": 5
}
