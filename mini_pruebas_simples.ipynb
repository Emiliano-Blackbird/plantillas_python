{
 "cells": [
  {
   "cell_type": "code",
   "execution_count": null,
   "id": "6b1c57c0",
   "metadata": {},
   "outputs": [
    {
     "name": "stdout",
     "output_type": "stream",
     "text": [
      "Opción no válida. Escriba 'C' o 'F'.\n"
     ]
    }
   ],
   "source": [
    "#Pido al usuario el tipo de temperatura a convertir y llamo a la función correspondiente\n",
    "# Creo funciones de conversión de ambas temperaturas\n",
    "def celsius_a_fahrenheit(c):\n",
    "    return (c * 9/5) + 32\n",
    "\n",
    "def fahrenheit_a_celsius(f):\n",
    "    return (f - 32) * 5/9\n",
    "\n",
    "while True:\n",
    "    tipo = input(\"¿Quieres convertir de (C)elsius a Fahrenheit o de (F)ahrenheit a Celsius? \").strip().lower()  # Elimino espacios y convierto a minúsculas\n",
    "\n",
    "    if tipo == \"c\":\n",
    "        valor = input(\"Ingrese la temperatura en Celsius: \")\n",
    "        try:\n",
    "            temp = float(valor)\n",
    "            print(f\"{temp}°C son {celsius_a_fahrenheit(temp)}°F\")\n",
    "            break\n",
    "        except ValueError:\n",
    "            print(\"Por favor, ingrese un número válido.\")\n",
    "    \n",
    "    elif tipo == \"f\":\n",
    "        valor = input(\"Ingrese la temperatura en Fahrenheit: \")\n",
    "        try:\n",
    "            temp = float(valor)\n",
    "            print(f\"{temp}°F son {fahrenheit_a_celsius(temp)}°C\")\n",
    "            break\n",
    "        except ValueError:\n",
    "            print(\"Por favor, ingrese un número válido.\")\n",
    "    \n",
    "    else:\n",
    "        print(\"Opción no válida. Escriba 'C' o 'F'.\")\n"
   ]
  }
 ],
 "metadata": {
  "kernelspec": {
   "display_name": ".venv",
   "language": "python",
   "name": "python3"
  },
  "language_info": {
   "codemirror_mode": {
    "name": "ipython",
    "version": 3
   },
   "file_extension": ".py",
   "mimetype": "text/x-python",
   "name": "python",
   "nbconvert_exporter": "python",
   "pygments_lexer": "ipython3",
   "version": "3.12.3"
  }
 },
 "nbformat": 4,
 "nbformat_minor": 5
}
