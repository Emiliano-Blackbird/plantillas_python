{
 "cells": [
  {
   "cell_type": "code",
   "execution_count": 5,
   "id": "7d36b098",
   "metadata": {},
   "outputs": [
    {
     "name": "stdout",
     "output_type": "stream",
     "text": [
      "array original [0. 0. 0. 0. 0. 0. 0. 0.]\n",
      "array modificado [9. 9. 9. 9. 9. 9. 9. 9.]\n"
     ]
    }
   ],
   "source": [
    "import numpy as np\n",
    "\n",
    "array_1 = np.zeros(8) #Create a 1D array of zeros with 8 elements\n",
    "print(\"array original\", array_1)\n",
    "\n",
    "array_1[:] = 9 #Set all elements to 9\n",
    "print(\"array modificado\", array_1)"
   ]
  },
  {
   "cell_type": "code",
   "execution_count": null,
   "id": "6806a615",
   "metadata": {},
   "outputs": [
    {
     "name": "stdout",
     "output_type": "stream",
     "text": [
      "Array con números pares [ 2  4  6  8 10]\n",
      "Array con números pares revertido [10  8  6  4  2]\n"
     ]
    }
   ],
   "source": [
    "import numpy as np\n",
    "\n",
    "array_2 = np.arange(2,11,2) #Create a 1D array with values from 2 to 10 with a step of 2\n",
    "print(\"Array con números pares\" , array_2)\n",
    "\n",
    "array_2_revertido = array_2[::-1]\n",
    "print(\"Array con números pares revertido\", array_2_revertido)"
   ]
  },
  {
   "cell_type": "code",
   "execution_count": 13,
   "id": "38f7a92e",
   "metadata": {},
   "outputs": [
    {
     "name": "stdout",
     "output_type": "stream",
     "text": [
      "Array con números aleatorios [30 74 14 25 70 28  3 43 92 63]\n"
     ]
    }
   ],
   "source": [
    "import numpy as np\n",
    "\n",
    "array_random = np.random.randint(1, 100, size=10) #Create a 1D array with 10 random integers between 1 and 100\n",
    "print(\"Array con números aleatorios\", array_random)"
   ]
  },
  {
   "cell_type": "code",
   "execution_count": 17,
   "id": "cff1e6eb",
   "metadata": {},
   "outputs": [
    {
     "name": "stdout",
     "output_type": "stream",
     "text": [
      "La nota final del estudiante 1 es: 8.2\n",
      "La nota final del estudiante 2 es: 7.199999999999999\n",
      "La nota final del estudiante 3 es: 8.6\n",
      "La nota final del estudiante 4 es: 6.3999999999999995\n",
      "La nota final del estudiante 5 es: 9.7\n"
     ]
    }
   ],
   "source": [
    "import numpy as np\n",
    "\n",
    "calificaciones = np.array([\n",
    "    [8, 7, 9, 10],\n",
    "    [6, 8, 7, 9],\n",
    "    [9, 9, 8, 8],\n",
    "    [7, 6, 6, 7],\n",
    "    [10, 9, 10, 10]\n",
    "])  #Create a 2D array with students' grades\n",
    "\n",
    "# Nota final\n",
    "examen1 = calificaciones[:, 0]\n",
    "examen2 = calificaciones[:, 1]\n",
    "trabajo_final = calificaciones[:, 2]\n",
    "participación = calificaciones[:, 3]\n",
    "\n",
    "nota_final = examen1 * 0.3 + examen2 * 0.3 + trabajo_final * 0.3 + participación * 0.1\n",
    "\n",
    "for i in range(len(nota_final)):\n",
    "    print(\"La nota final del estudiante\", i+1, \"es:\", nota_final[i])\n"
   ]
  }
 ],
 "metadata": {
  "kernelspec": {
   "display_name": ".venv",
   "language": "python",
   "name": "python3"
  },
  "language_info": {
   "codemirror_mode": {
    "name": "ipython",
    "version": 3
   },
   "file_extension": ".py",
   "mimetype": "text/x-python",
   "name": "python",
   "nbconvert_exporter": "python",
   "pygments_lexer": "ipython3",
   "version": "3.12.3"
  }
 },
 "nbformat": 4,
 "nbformat_minor": 5
}
