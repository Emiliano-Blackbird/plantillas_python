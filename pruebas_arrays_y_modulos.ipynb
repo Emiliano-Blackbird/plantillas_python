{
 "cells": [
  {
   "cell_type": "code",
   "execution_count": 5,
   "id": "7d36b098",
   "metadata": {},
   "outputs": [
    {
     "name": "stdout",
     "output_type": "stream",
     "text": [
      "array original [0. 0. 0. 0. 0. 0. 0. 0.]\n",
      "array modificado [9. 9. 9. 9. 9. 9. 9. 9.]\n"
     ]
    }
   ],
   "source": [
    "import numpy as np\n",
    "\n",
    "array_1 = np.zeros(8) #Create a 1D array of zeros with 8 elements\n",
    "print(\"array original\", array_1)\n",
    "\n",
    "array_1[:] = 9 #Set all elements to 9\n",
    "print(\"array modificado\", array_1)"
   ]
  },
  {
   "cell_type": "code",
   "execution_count": null,
   "id": "6806a615",
   "metadata": {},
   "outputs": [
    {
     "name": "stdout",
     "output_type": "stream",
     "text": [
      "Array con números pares [ 2  4  6  8 10]\n",
      "Array con números pares revertido [10  8  6  4  2]\n"
     ]
    }
   ],
   "source": [
    "import numpy as np\n",
    "\n",
    "array_2 = np.arange(2,11,2) #Create a 1D array with values from 2 to 10 with a step of 2\n",
    "print(\"Array con números pares\" , array_2)\n",
    "\n",
    "array_2_revertido = array_2[::-1]\n",
    "print(\"Array con números pares revertido\", array_2_revertido)"
   ]
  },
  {
   "cell_type": "code",
   "execution_count": 13,
   "id": "38f7a92e",
   "metadata": {},
   "outputs": [
    {
     "name": "stdout",
     "output_type": "stream",
     "text": [
      "Array con números aleatorios [30 74 14 25 70 28  3 43 92 63]\n"
     ]
    }
   ],
   "source": [
    "import numpy as np\n",
    "\n",
    "array_random = np.random.randint(1, 100, size=10) #Create a 1D array with 10 random integers between 1 and 100\n",
    "print(\"Array con números aleatorios\", array_random)"
   ]
  },
  {
   "cell_type": "code",
   "execution_count": 17,
   "id": "cff1e6eb",
   "metadata": {},
   "outputs": [
    {
     "name": "stdout",
     "output_type": "stream",
     "text": [
      "La nota final del estudiante 1 es: 8.2\n",
      "La nota final del estudiante 2 es: 7.199999999999999\n",
      "La nota final del estudiante 3 es: 8.6\n",
      "La nota final del estudiante 4 es: 6.3999999999999995\n",
      "La nota final del estudiante 5 es: 9.7\n"
     ]
    }
   ],
   "source": [
    "import numpy as np\n",
    "\n",
    "calificaciones = np.array([\n",
    "    [8, 7, 9, 10],\n",
    "    [6, 8, 7, 9],\n",
    "    [9, 9, 8, 8],\n",
    "    [7, 6, 6, 7],\n",
    "    [10, 9, 10, 10]\n",
    "])  #Create a 2D array with students' grades\n",
    "\n",
    "# Nota final\n",
    "examen1 = calificaciones[:, 0]\n",
    "examen2 = calificaciones[:, 1]\n",
    "trabajo_final = calificaciones[:, 2]\n",
    "participación = calificaciones[:, 3]\n",
    "\n",
    "nota_final = examen1 * 0.3 + examen2 * 0.3 + trabajo_final * 0.3 + participación * 0.1\n",
    "\n",
    "for i in range(len(nota_final)):\n",
    "    print(\"La nota final del estudiante\", i+1, \"es:\", nota_final[i])\n"
   ]
  },
  {
   "cell_type": "code",
   "execution_count": 23,
   "id": "2652b416",
   "metadata": {},
   "outputs": [
    {
     "name": "stdout",
     "output_type": "stream",
     "text": [
      "Temp promedio por mes: 1 : 30.0 °C\n",
      "Humedad promedio por mes: 1 : 48.0 %\n",
      "Presión promedio por mes: 1 : 1008.0 hPa\n",
      "Temp promedio por mes: 2 : 32.0 °C\n",
      "Humedad promedio por mes: 2 : 50.0 %\n",
      "Presión promedio por mes: 2 : 1010.0 hPa\n",
      "Temp promedio por mes: 3 : 31.0 °C\n",
      "Humedad promedio por mes: 3 : 45.0 %\n",
      "Presión promedio por mes: 3 : 1005.0 hPa\n",
      "Temp promedio por mes: 4 : 29.0 °C\n",
      "Humedad promedio por mes: 4 : 55.0 %\n",
      "Presión promedio por mes: 4 : 1012.0 hPa\n",
      "Temp promedio por mes: 5 : 28.0 °C\n",
      "Humedad promedio por mes: 5 : 60.0 %\n",
      "Presión promedio por mes: 5 : 1000.0 hPa\n",
      "Temp promedio por mes: 6 : 25.0 °C\n",
      "Humedad promedio por mes: 6 : 65.0 %\n",
      "Presión promedio por mes: 6 : 1078.0 hPa\n",
      "Temp promedio por mes: 7 : 27.0 °C\n",
      "Humedad promedio por mes: 7 : 70.0 %\n",
      "Presión promedio por mes: 7 : 1080.0 hPa\n",
      "Temp promedio por mes: 8 : 26.0 °C\n",
      "Humedad promedio por mes: 8 : 75.0 %\n",
      "Presión promedio por mes: 8 : 1075.0 hPa\n",
      "Temp promedio por mes: 9 : 24.0 °C\n",
      "Humedad promedio por mes: 9 : 80.0 %\n",
      "Presión promedio por mes: 9 : 1060.0 hPa\n",
      "Temp promedio por mes: 10 : 23.0 °C\n",
      "Humedad promedio por mes: 10 : 85.0 %\n",
      "Presión promedio por mes: 10 : 1050.0 hPa\n",
      "Temp promedio por mes: 11 : 27.0 °C\n",
      "Humedad promedio por mes: 11 : 90.0 %\n",
      "Presión promedio por mes: 11 : 1040.0 hPa\n",
      "Temp promedio por mes: 12 : 28.0 °C\n",
      "Humedad promedio por mes: 12 : 95.0 %\n",
      "Presión promedio por mes: 12 : 1030.0 hPa\n"
     ]
    }
   ],
   "source": [
    "import numpy as np\n",
    "\n",
    "clima = np.array([\n",
    "    [30, 48, 1008, 1],\n",
    "    [32, 50, 1010, 2],\n",
    "    [31, 45, 1005, 3],\n",
    "    [29, 55, 1012, 4],\n",
    "    [28, 60, 1000, 5],\n",
    "    [25, 65, 1078, 6],\n",
    "    [27, 70, 1080, 7],\n",
    "    [26, 75, 1075, 8],\n",
    "    [24, 80, 1060, 9],\n",
    "    [23, 85, 1050, 10],\n",
    "    [27, 90, 1040, 11],\n",
    "    [28, 95, 1030, 12]\n",
    "])  #Create a 2D array with weather data (temperature, humidity in %, pressure in hPa, month)\n",
    "\n",
    "meses = clima[:, 3]  # Extract the month column\n",
    "temperaturas = clima[:, 0]  # Extract the temperature column\n",
    "humedad = clima[:, 1]  # Extract the humidity column\n",
    "presion = clima[:, 2]  # Extract the pressure column\n",
    "\n",
    "temp_mes = np.zeros(12)\n",
    "humedad_mes = np.zeros(12)\n",
    "presion_mes = np.zeros(12)\n",
    "\n",
    "for i in range(12):\n",
    "    temp_mes[i] = np.mean(temperaturas[meses == i + 1])\n",
    "    humedad_mes[i] = np.mean(humedad[meses == i + 1])\n",
    "    presion_mes[i] = np.mean(presion[meses == i + 1])\n",
    "\n",
    "    print(\"Temp promedio por mes:\", i + 1, \":\", temp_mes[i], \"°C\")\n",
    "    print(\"Humedad promedio por mes:\", i + 1, \":\", humedad_mes[i], \"%\")\n",
    "    print(\"Presión promedio por mes:\", i + 1, \":\", presion_mes[i], \"hPa\")\n"
   ]
  },
  {
   "cell_type": "code",
   "execution_count": 18,
   "id": "e7b97ec0",
   "metadata": {},
   "outputs": [
    {
     "name": "stdout",
     "output_type": "stream",
     "text": [
      "Género más popular: fantasy\n",
      "Décadas: [1990 2000 2010]\n",
      "En la década de los 1990 se estrenaron 6 películas.\n",
      "En la década de los 2000 se estrenaron 4 películas.\n",
      "En la década de los 2010 se estrenaron 4 películas.\n",
      "Género: action\n",
      "Duración promedio: ['152' '155']\n",
      "<class 'numpy.ndarray'>\n",
      "Género: crime\n",
      "Duración promedio: ['154']\n",
      "<class 'numpy.ndarray'>\n",
      "Género: drama\n",
      "Duración promedio: ['142' '139' '142']\n",
      "<class 'numpy.ndarray'>\n",
      "Género: fantasy\n",
      "Duración promedio: ['201' '152' '144']\n",
      "<class 'numpy.ndarray'>\n",
      "Género: sci-fi\n",
      "Duración promedio: ['136' '169']\n",
      "<class 'numpy.ndarray'>\n",
      "Género: suspense\n",
      "Duración promedio: ['120']\n",
      "<class 'numpy.ndarray'>\n",
      "Género: thriller\n",
      "Duración promedio: ['118' '132']\n",
      "<class 'numpy.ndarray'>\n"
     ]
    }
   ],
   "source": [
    "import numpy as np\n",
    "\n",
    "peliculas = np.array([\n",
    "    [\"Inception\", 'suspense', 120, 2010, 8.8],\n",
    "    [\"The Dark Knight\", 'action', 152, 2008, 9.0],\n",
    "    [\"Pulp Fiction\", 'crime', 154, 1994, 8.9],\n",
    "    [\"Forrest Gump\", 'drama', 142, 1994, 8.8],\n",
    "    [\"The Matrix\", 'sci-fi', 136, 1999, 8.7],\n",
    "    [\"Fight Club\", 'drama', 139, 1999, 8.8],\n",
    "    [\"The Shawshank Redemption\", 'drama', 142, 1994, 9.3],\n",
    "    [\"The Lord of the Rings: The Return of the King\", 'fantasy', 201, 2003, 8.9],\n",
    "    [\"Interstellar\", 'sci-fi', 169, 2014, 8.6],\n",
    "    [\"Gladiator\", 'action', 155, 2000, 8.5],\n",
    "    [\"The Silence of the Lambs\", 'thriller', 118, 1991, 8.6],\n",
    "    [\"Parasite\", 'thriller', 132, 2019, 8.6],\n",
    "    [\"Harry Potter and the Sorcerer's Stone\", 'fantasy', 152, 2001, 7.6],\n",
    "    [\"The Hobbit: An Unexpected Journey\", 'fantasy', 144, 2012, 7.8],\n",
    "])\n",
    "\n",
    "# Extracting genres and their counts\n",
    "generos , conteos = np.unique(peliculas[:, 1], return_counts=True)\n",
    "\n",
    "conteos_descendente = np.argsort(conteos)[::-1]  # Indices for sorting in descending order\n",
    "\n",
    "genero_popular = generos[conteos_descendente[0]]  # Most popular genre\n",
    "\n",
    "print(\"Género más popular:\", genero_popular)\n",
    "\n",
    "decadas = np.unique((peliculas[:, 3].astype(int) // 10) * 10)  # Unique decades\n",
    "print(\"Décadas:\", decadas)\n",
    "\n",
    "# Conteo de películas por décadas\n",
    "conteo_decadas = []\n",
    "for decada in decadas:\n",
    "    conteo = np.count_nonzero((peliculas[:, 3].astype(int) >= decada) & (peliculas[:, 3].astype(int) < decada + 10))\n",
    "    conteo_decadas.append(conteo)\n",
    "\n",
    "    print(\"En la década de los\", decada, \"se estrenaron\", conteo, \"películas.\")\n",
    "\n",
    "# Duración promedio de películas por género\n",
    "todos_generos = peliculas[:, 1]\n",
    "duraciones = peliculas[:, 2]\n",
    "duracion_media = np.zeros(len(generos))\n",
    "for i in range(len(generos)):\n",
    "    print(\"Género:\", generos[i])\n",
    "    print(\"Duración promedio:\", duraciones[todos_generos == generos[i]])\n",
    "    print(type(duraciones[todos_generos == generos[i]]))\n"
   ]
  }
 ],
 "metadata": {
  "kernelspec": {
   "display_name": ".venv",
   "language": "python",
   "name": "python3"
  },
  "language_info": {
   "codemirror_mode": {
    "name": "ipython",
    "version": 3
   },
   "file_extension": ".py",
   "mimetype": "text/x-python",
   "name": "python",
   "nbconvert_exporter": "python",
   "pygments_lexer": "ipython3",
   "version": "3.12.3"
  }
 },
 "nbformat": 4,
 "nbformat_minor": 5
}
