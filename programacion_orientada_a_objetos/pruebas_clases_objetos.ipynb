{
 "cells": [
  {
   "cell_type": "code",
   "execution_count": 1,
   "id": "bc9c05bb",
   "metadata": {},
   "outputs": [
    {
     "name": "stdout",
     "output_type": "stream",
     "text": [
      "Juan 30 Abogado\n",
      "Maria 25 Ingeniera\n"
     ]
    }
   ],
   "source": [
    "class Persona:\n",
    "    def __init__(self, nombre, edad, profesion):\n",
    "        self.nombre = nombre\n",
    "        self.edad = edad\n",
    "        self.profesion = profesion\n",
    "\n",
    "persona1 = Persona(\"Juan\", 30, \"Abogado\")\n",
    "persona2 = Persona(\"Maria\", 25, \"Ingeniera\")\n",
    "\n",
    "print(persona1.nombre, persona1.edad, persona1.profesion)\n",
    "print(persona2.nombre, persona2.edad, persona2.profesion)"
   ]
  },
  {
   "cell_type": "code",
   "execution_count": 2,
   "id": "fe53f6be",
   "metadata": {},
   "outputs": [
    {
     "name": "stdout",
     "output_type": "stream",
     "text": [
      "8\n",
      "2\n",
      "15\n",
      "1.6666666666666667\n"
     ]
    }
   ],
   "source": [
    "class Calculadora:\n",
    "    def sumar(self, a, b):\n",
    "        return a + b\n",
    "\n",
    "    def restar(self, a, b):\n",
    "        return a - b\n",
    "    \n",
    "    def multiplicar(self, a, b):\n",
    "        return a * b\n",
    "    \n",
    "    def dividir(self, a, b):\n",
    "        return a / b\n",
    "\n",
    "calculadora = Calculadora()\n",
    "print(calculadora.sumar(5,3))\n",
    "print(calculadora.restar(5,3))\n",
    "print(calculadora.multiplicar(5,3))\n",
    "print(calculadora.dividir(5,3))"
   ]
  },
  {
   "cell_type": "code",
   "execution_count": 3,
   "id": "a1596775",
   "metadata": {},
   "outputs": [
    {
     "name": "stdout",
     "output_type": "stream",
     "text": [
      "Python para principiantes John Doe 2020\n",
      "Aprende Python en 30 dias Jane Smith 2011\n"
     ]
    }
   ],
   "source": [
    "class Libro:\n",
    "    def __init__(self, titulo, autor, anio_publicacion):\n",
    "        self.titulo = titulo\n",
    "        self.autor = autor\n",
    "        self.anio_publicacion = anio_publicacion\n",
    "\n",
    "libro1 = Libro(\"Python para principiantes\", \"John Doe\", 2020)\n",
    "libro2 = Libro(\"Aprende Python en 30 dias\", \"Jane Smith\", 2011)\n",
    "\n",
    "print(libro1.titulo, libro1.autor, libro1.anio_publicacion)\n",
    "print(libro2.titulo, libro2.autor, libro2.anio_publicacion)\n"
   ]
  },
  {
   "cell_type": "code",
   "execution_count": 4,
   "id": "51ee40d4",
   "metadata": {},
   "outputs": [
    {
     "name": "stdout",
     "output_type": "stream",
     "text": [
      "Area: 15\n",
      "Perimetro: 16\n"
     ]
    }
   ],
   "source": [
    "class Rectangulo:\n",
    "    def __init__(self,longitud, ancho):\n",
    "        self.longitud = longitud\n",
    "        self.ancho = ancho\n",
    "\n",
    "    def calcular_area(self):\n",
    "        area = self.longitud * self.ancho\n",
    "        return area\n",
    "\n",
    "    def calcular_perimetro(self):\n",
    "        return 2 * (self.longitud + self.ancho)\n",
    "\n",
    "rectangulo1 = Rectangulo(5,3)\n",
    "print(\"Area:\", rectangulo1.calcular_area())\n",
    "print(\"Perimetro:\", rectangulo1.calcular_perimetro())\n"
   ]
  },
  {
   "cell_type": "code",
   "execution_count": 5,
   "id": "4cadeb58",
   "metadata": {},
   "outputs": [
    {
     "name": "stdout",
     "output_type": "stream",
     "text": [
      "Resultado del dado 1: 5\n",
      "Resultado del dado 2: 4\n"
     ]
    }
   ],
   "source": [
    "import random\n",
    "\n",
    "class Dado:\n",
    "    def lanzar_dado(self):\n",
    "        lanzamiento = random.randint(1,6)\n",
    "        return lanzamiento\n",
    "\n",
    "dado1 = Dado()\n",
    "dado2 = Dado()\n",
    "resultado1 = dado1.lanzar_dado()\n",
    "resultado2 = dado2.lanzar_dado()\n",
    "print(\"Resultado del dado 1:\", resultado1)\n",
    "print(\"Resultado del dado 2:\", resultado2)\n"
   ]
  },
  {
   "cell_type": "code",
   "execution_count": 6,
   "id": "c8986002",
   "metadata": {},
   "outputs": [
    {
     "name": "stdout",
     "output_type": "stream",
     "text": [
      "El coche esta encendido: False\n",
      "El coche esta encendido: True\n",
      "El coche esta encendido: False\n"
     ]
    }
   ],
   "source": [
    "class Coche:\n",
    "    def __init__(self, marca, modelo, anio):\n",
    "        self.marca = marca\n",
    "        self.modelo = modelo\n",
    "        self. anio = anio\n",
    "        self.encendido = False\n",
    "\n",
    "    def encender(self):\n",
    "        self.encendido = True\n",
    "\n",
    "    def apagar(self):\n",
    "        self.encendido = False\n",
    "\n",
    "mi_coche = Coche(\"Toyota\", \"Corolla\", 2015)\n",
    "print(\"El coche esta encendido:\", mi_coche.encendido)\n",
    "mi_coche.encender()\n",
    "print(\"El coche esta encendido:\", mi_coche.encendido)\n",
    "mi_coche.apagar()\n",
    "print(\"El coche esta encendido:\", mi_coche.encendido)\n"
   ]
  }
 ],
 "metadata": {
  "kernelspec": {
   "display_name": ".venv",
   "language": "python",
   "name": "python3"
  },
  "language_info": {
   "codemirror_mode": {
    "name": "ipython",
    "version": 3
   },
   "file_extension": ".py",
   "mimetype": "text/x-python",
   "name": "python",
   "nbconvert_exporter": "python",
   "pygments_lexer": "ipython3",
   "version": "3.12.3"
  }
 },
 "nbformat": 4,
 "nbformat_minor": 5
}
