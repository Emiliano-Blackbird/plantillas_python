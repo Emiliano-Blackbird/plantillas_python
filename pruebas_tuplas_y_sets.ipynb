{
 "cells": [
  {
   "cell_type": "code",
   "execution_count": null,
   "id": "54fe63a5",
   "metadata": {},
   "outputs": [
    {
     "name": "stdout",
     "output_type": "stream",
     "text": [
      "1\n",
      "2\n",
      "3\n"
     ]
    }
   ],
   "source": [
    "tupla_uno = (1, 2, 3)  # Son inmutables (no puedo modificarlas)\n",
    "for elemento in tupla_uno:\n",
    "    print(elemento)"
   ]
  },
  {
   "cell_type": "code",
   "execution_count": 3,
   "id": "28d218ea",
   "metadata": {},
   "outputs": [
    {
     "name": "stdout",
     "output_type": "stream",
     "text": [
      "('p', 'm', 'p')\n",
      "('p', 'm', 'p')\n"
     ]
    }
   ],
   "source": [
    "mi_tupla = (\"platano\", \"manzana\", \"pera\")\n",
    "lista = []\n",
    "for palabra in mi_tupla:\n",
    "    lista.append(palabra[0])\n",
    "mi_nueva_tupla = tuple(lista)\n",
    "print(mi_nueva_tupla)\n",
    "\n",
    "# o también se puede hacer con comprensión de tuplas\n",
    "mi_nueva_tupla2 = tuple(palabra[0] for palabra in mi_tupla)\n",
    "print(mi_nueva_tupla2)"
   ]
  },
  {
   "cell_type": "code",
   "execution_count": 7,
   "id": "c935d221",
   "metadata": {},
   "outputs": [
    {
     "name": "stdout",
     "output_type": "stream",
     "text": [
      "(1, 2, 3, 4, 5, 6, 7, 8, 9)\n",
      "(1, 2, 3, 4, 5, 6, 7, 8, 9)\n"
     ]
    }
   ],
   "source": [
    "mi_tupla = (1, 1, 2, 3, 4, 5, 5, 6, 7, 8, 9)\n",
    "mi_set = set(mi_tupla)  # Convierto la tupla a un set para eliminar duplicados\n",
    "mi_tupla_sin_duplicados = tuple(mi_set)\n",
    "print(mi_tupla_sin_duplicados)\n",
    "# o también se puede hacer con comprensión de tuplas\n",
    "mi_tupla_sin_duplicados2 = tuple(set(mi_tupla))\n",
    "print(mi_tupla_sin_duplicados2)"
   ]
  },
  {
   "cell_type": "code",
   "execution_count": 8,
   "id": "80a0aae0",
   "metadata": {},
   "outputs": [
    {
     "name": "stdout",
     "output_type": "stream",
     "text": [
      "{1, 2, 3, 4}\n"
     ]
    }
   ],
   "source": [
    "mi_set = {1, 2, 3, 4, 5}\n",
    "mi_set.discard(5)  # Elimina el elemento 5 del set si existe\n",
    "print(mi_set)"
   ]
  },
  {
   "cell_type": "code",
   "execution_count": 10,
   "id": "e1d63e5e",
   "metadata": {},
   "outputs": [
    {
     "name": "stdout",
     "output_type": "stream",
     "text": [
      "<class 'set'>\n"
     ]
    }
   ],
   "source": [
    "#set vacio\n",
    "mi_set_vacio = set()  # Crea un set vacío\n",
    "print(type(mi_set_vacio))"
   ]
  },
  {
   "cell_type": "code",
   "execution_count": 11,
   "id": "8d0f22bb",
   "metadata": {},
   "outputs": [
    {
     "name": "stdout",
     "output_type": "stream",
     "text": [
      "True\n"
     ]
    }
   ],
   "source": [
    "set_coclores = {\"rojo\", \"verde\", \"azul\"}\n",
    "pertenence = \"rojo\" in set_coclores  # Verifica si \"rojo\" está en el set\n",
    "print(pertenence)  # Imprime True si \"rojo\" está en el set, False en caso contrario"
   ]
  }
 ],
 "metadata": {
  "kernelspec": {
   "display_name": ".venv",
   "language": "python",
   "name": "python3"
  },
  "language_info": {
   "codemirror_mode": {
    "name": "ipython",
    "version": 3
   },
   "file_extension": ".py",
   "mimetype": "text/x-python",
   "name": "python",
   "nbconvert_exporter": "python",
   "pygments_lexer": "ipython3",
   "version": "3.12.3"
  }
 },
 "nbformat": 4,
 "nbformat_minor": 5
}
